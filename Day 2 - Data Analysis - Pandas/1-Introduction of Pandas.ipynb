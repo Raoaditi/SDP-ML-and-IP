{
 "cells": [
  {
   "cell_type": "markdown",
   "metadata": {
    "colab_type": "text",
    "id": "HJr4rdB0ze5V"
   },
   "source": [
    "# Introduction to Pandas\n",
    "\n",
    "1.  Pandas is an open source library in Python. It provides ready to use high-performance data structures and data analysis tools.\n",
    "\n",
    "2. Pandas module runs on top of NumPy and it is popularly used for data science and data analytics.\n",
    "\n",
    "3. NumPy is a low-level data structure that supports multi-dimensional arrays and a wide range of mathematical array operations. Pandas has a higher-level interface. It also provides streamlined alignment of tabular data and powerful time series functionality.\n",
    "\n",
    "4. DataFrame is the key data structure in Pandas. It allows us to store and manipulate tabular data as a 2-D data structure.\n",
    "\n",
    "5. Pandas provides a rich feature-set on the DataFrame. For example, data alignment, data statistics, slicing, grouping, merging, concatenating data, etc.\n",
    "\n",
    "In this section of the course we will learn how to use pandas for data analysis. \n",
    "You can think of pandas as an extremely powerful version of Excel, with a lot more features. \n",
    "\n",
    "* Series\n",
    "* DataFrames\n",
    "* Missing Data\n",
    "* Merging, Joining and Concatenating\n",
    "* Data Input and Output"
   ]
  },
  {
   "cell_type": "markdown",
   "metadata": {},
   "source": [
    "NumPy is the fundamental package for scientific computing in Python. \n",
    "\n",
    "It is a Python library that provides a multidimensional array object, \n",
    "various derived objects (such as masked arrays and matrices), and an \n",
    "assortment of routines for fast operations on arrays, including mathematical, \n",
    "logical, shape manipulation, sorting, selecting, I/O, discrete Fourier transforms, \n",
    "basic linear algebra, basic statistical operations, random simulation and much more."
   ]
  },
  {
   "cell_type": "code",
   "execution_count": null,
   "metadata": {},
   "outputs": [],
   "source": []
  }
 ],
 "metadata": {
  "colab": {
   "name": "1-Introduction of Pandas.ipynb",
   "provenance": []
  },
  "kernelspec": {
   "display_name": "Python 3",
   "language": "python",
   "name": "python3"
  },
  "language_info": {
   "codemirror_mode": {
    "name": "ipython",
    "version": 3
   },
   "file_extension": ".py",
   "mimetype": "text/x-python",
   "name": "python",
   "nbconvert_exporter": "python",
   "pygments_lexer": "ipython3",
   "version": "3.8.5"
  }
 },
 "nbformat": 4,
 "nbformat_minor": 1
}
