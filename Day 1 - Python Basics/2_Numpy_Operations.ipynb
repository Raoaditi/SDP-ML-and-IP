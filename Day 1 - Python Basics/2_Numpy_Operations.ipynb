{
  "nbformat": 4,
  "nbformat_minor": 0,
  "metadata": {
    "kernelspec": {
      "display_name": "Python 3",
      "language": "python",
      "name": "python3"
    },
    "language_info": {
      "codemirror_mode": {
        "name": "ipython",
        "version": 3
      },
      "file_extension": ".py",
      "mimetype": "text/x-python",
      "name": "python",
      "nbconvert_exporter": "python",
      "pygments_lexer": "ipython3",
      "version": "3.7.7"
    },
    "colab": {
      "name": "2-Numpy Operations.ipynb",
      "provenance": []
    }
  },
  "cells": [
    {
      "cell_type": "markdown",
      "metadata": {
        "id": "f2ICgz2fL2xA"
      },
      "source": [
        "# Operations on NumPy Arrays\n"
      ]
    },
    {
      "cell_type": "markdown",
      "metadata": {
        "id": "9yg_AqpzL2xC"
      },
      "source": [
        "## Indexing and Slicing\n",
        "\n",
        "In order to access a single or multiple items of an array, we need to pass array of indexes in square brackets.\n",
        "\n",
        "Indexing in two-dimensional array is represented by a pair of values, where the first value is the index of the row and the second is the index of the column.\n",
        "\n",
        "Slicing allows to extract portions of an array or select a subset of an existing array to generate new arrays. For slicing a sequence of numbers are separated by colons (:) within square brackets."
      ]
    },
    {
      "cell_type": "code",
      "metadata": {
        "id": "QOLAi1XOL2xD"
      },
      "source": [
        "import numpy as np"
      ],
      "execution_count": null,
      "outputs": []
    },
    {
      "cell_type": "code",
      "metadata": {
        "id": "lmatzVzuL2xD",
        "outputId": "e8a9314b-058f-4eeb-bbf4-a012ea32cb2d"
      },
      "source": [
        "a = np.array([1, 2, 3, 4, 5, 6])\n",
        "#print(a[5])   # Get first value\n",
        "print(a[-1])  # Get last value\n",
        "#print(a[3])   # Get 4th value from first\n",
        "#print(a[-5])  # Get 5th value from last"
      ],
      "execution_count": null,
      "outputs": [
        {
          "output_type": "stream",
          "text": [
            "6\n"
          ],
          "name": "stdout"
        }
      ]
    },
    {
      "cell_type": "code",
      "metadata": {
        "id": "G2bqco1HL2xE",
        "outputId": "6acc010d-0c1d-4a4d-b4ac-fd932ea38afc"
      },
      "source": [
        "print(a[1:])\n",
        "#print(a[:-1])\n",
        "#print(a[2:5])"
      ],
      "execution_count": null,
      "outputs": [
        {
          "output_type": "stream",
          "text": [
            "[2 3 4 5 6]\n"
          ],
          "name": "stdout"
        }
      ]
    },
    {
      "cell_type": "code",
      "metadata": {
        "id": "bpIuW5VJL2xF",
        "outputId": "ed652867-df70-4aad-b7ef-bc5426c3f463"
      },
      "source": [
        "# Get multiple values\n",
        "print(a[[1, -2, -1]])"
      ],
      "execution_count": null,
      "outputs": [
        {
          "output_type": "stream",
          "text": [
            "[2 5 6]\n"
          ],
          "name": "stdout"
        }
      ]
    },
    {
      "cell_type": "code",
      "metadata": {
        "id": "L3tasLEDL2xF",
        "outputId": "c39823af-8f26-4862-dd5b-a6ce623fa57c"
      },
      "source": [
        "b = np.array([[1, 2, 3], [4, 5, 6], [7, 8, 9]])\n",
        "print(b)\n",
        "\n",
        "print(\"-\" * 10)\n",
        " \n",
        "#print(b[0, 2])   # Get first row third col\n",
        " \n",
        "print(b[1, 1:])   # Get second row second and third col"
      ],
      "execution_count": null,
      "outputs": [
        {
          "output_type": "stream",
          "text": [
            "[[1 2 3]\n",
            " [4 5 6]\n",
            " [7 8 9]]\n",
            "----------\n",
            "[5 6]\n"
          ],
          "name": "stdout"
        }
      ]
    },
    {
      "cell_type": "markdown",
      "metadata": {
        "id": "qpCbjVNbL2xG"
      },
      "source": [
        "## Arithmetic Operations\n",
        "\n",
        "The arithmetic operations with NumPy arrays perform element-wise operations, this means the operators are applied only between corresponding elements."
      ]
    },
    {
      "cell_type": "code",
      "metadata": {
        "colab": {
          "base_uri": "https://localhost:8080/"
        },
        "id": "DzAD6_BLL2xH",
        "outputId": "56a1e531-9894-411a-bf50-32a07f21fe69"
      },
      "source": [
        "import numpy as np\n",
        "a = np.array([[10, 20, 30], [40, 50, 60]])\n",
        " \n",
        "print(a + 2)\n",
        "print(\"\")\n",
        " \n",
        "print(a - 5)\n",
        "print(\"\")\n",
        " \n",
        "print(a * 2)\n",
        "print(\"\")\n",
        " \n",
        "print(a / 5)\n",
        "print(\"\")\n",
        " \n",
        "print(a ** 2)\n",
        "print(\"\")\n",
        "\n",
        "\n",
        "print(np.sqrt(a))"
      ],
      "execution_count": 3,
      "outputs": [
        {
          "output_type": "stream",
          "text": [
            "[[12 22 32]\n",
            " [42 52 62]]\n",
            "\n",
            "[[ 5 15 25]\n",
            " [35 45 55]]\n",
            "\n",
            "[[ 20  40  60]\n",
            " [ 80 100 120]]\n",
            "\n",
            "[[ 2.  4.  6.]\n",
            " [ 8. 10. 12.]]\n",
            "\n",
            "[[ 100  400  900]\n",
            " [1600 2500 3600]]\n",
            "\n",
            "[[3.16227766 4.47213595 5.47722558]\n",
            " [6.32455532 7.07106781 7.74596669]]\n"
          ],
          "name": "stdout"
        }
      ]
    },
    {
      "cell_type": "markdown",
      "metadata": {
        "id": "lcTlTvm2L2xH"
      },
      "source": [
        "## Elementary Mathematical Functions\n",
        "\n",
        "These mathematical functions take a single array of any dimension as input and returns a new array of the same shape.\n",
        "\n",
        "\n",
        "Functions\n",
        "    1. np.cos(), np.sin(), np.tan()             - Trigonometric functions.\n",
        "    2. np.arccos(), np.arcsin(), np.arctan()\t- Inverse trigonometric functions.\n",
        "    3. np.cosh(), np.sinh(), np.tanh()\t        - Hyperbolic trigonometric functions.\n",
        "    4. np.arccosh(), np.arcsinh(), np.arctanh() - Inverse hyperbolic trigonometric unctions.\n",
        "    5. np.sqrt()\t                            - Square root.\n",
        "    6. np.exp()                                 - Exponential.\n",
        "    7. np.log(), np.log2(), np.log10()          - Logarithms of base e, 2, and 10, respectively."
      ]
    },
    {
      "cell_type": "markdown",
      "metadata": {
        "id": "ttL48mqpL2xI"
      },
      "source": [
        "## Element-wise Mathematical Operations\n",
        "np.add(), np.subtract(), np.multiply(), np.divide(), np.round(), np.power"
      ]
    },
    {
      "cell_type": "code",
      "metadata": {
        "id": "vBbKjTS6L2xJ",
        "outputId": "fb0b66a9-71ec-4591-a688-4a6adc36fe5a"
      },
      "source": [
        "a=np.array([1,2,3])\n",
        "b=np.array([3,2,1])\n",
        "c=a+b\n",
        "print(c)\n",
        "\n",
        "print(\"\")\n",
        "\n",
        "d=np.add(a,b)\n",
        "print(d)"
      ],
      "execution_count": null,
      "outputs": [
        {
          "output_type": "stream",
          "text": [
            "[4 4 4]\n",
            "\n",
            "[4 4 4]\n"
          ],
          "name": "stdout"
        }
      ]
    },
    {
      "cell_type": "markdown",
      "metadata": {
        "id": "wYaz3oHlL2xJ"
      },
      "source": [
        "## Aggregate and Statistical Functions\n",
        "np.mean(), np.std(), np.var(), np.sum(), np.prod(), np.cumsum(), np.cumprod(), np.min(), np.max()"
      ]
    },
    {
      "cell_type": "code",
      "metadata": {
        "id": "5v32L3CdL2xK",
        "outputId": "f5b3036f-db7d-4e84-c2b3-53c6da199964"
      },
      "source": [
        "a=[3,7,9,1]\n",
        "print(np.max(a))\n",
        "print(np.mean(a))"
      ],
      "execution_count": null,
      "outputs": [
        {
          "output_type": "stream",
          "text": [
            "9\n",
            "5.0\n"
          ],
          "name": "stdout"
        }
      ]
    }
  ]
}