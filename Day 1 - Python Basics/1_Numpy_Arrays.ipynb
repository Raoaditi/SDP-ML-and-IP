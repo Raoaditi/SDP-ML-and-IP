{
  "nbformat": 4,
  "nbformat_minor": 0,
  "metadata": {
    "kernelspec": {
      "display_name": "Python 3",
      "language": "python",
      "name": "python3"
    },
    "language_info": {
      "codemirror_mode": {
        "name": "ipython",
        "version": 3
      },
      "file_extension": ".py",
      "mimetype": "text/x-python",
      "name": "python",
      "nbconvert_exporter": "python",
      "pygments_lexer": "ipython3",
      "version": "3.7.7"
    },
    "colab": {
      "name": "1-Numpy Arrays.ipynb",
      "provenance": []
    }
  },
  "cells": [
    {
      "cell_type": "markdown",
      "metadata": {
        "id": "wzQz5FNaMG5s"
      },
      "source": [
        "# Python NumPy\n",
        "\n",
        "NumPy (short for Numerical Python) is an open source Python library for doing scientific computing with Python.\n",
        "\n",
        "It gives an ability to create multidimensional array objects and perform faster mathematical operations. The library contains a long list of useful mathematical functions, including some functions for linear algebra and complex mathematical operations such as Fourier Transform (FT) and random number generator (RNG).\n",
        "\n",
        "Most of the other libraries that we use in data analytics with Python, such as scikit-learn, SciPy (Scientific Library) and Pandas use some of NumPy's features."
      ]
    },
    {
      "cell_type": "markdown",
      "metadata": {
        "id": "Vrz0m32NMG5u"
      },
      "source": [
        "## Create Numpy Arrays\n",
        "\n",
        "To create a NumPy array we need to pass list of element values inside a square bracket as an argument to the np.array() function.\n",
        "\n",
        "A 3d array is a matrix of 2d array. A 3d array can also be called as a list of lists where every element is again a list of elements."
      ]
    },
    {
      "cell_type": "code",
      "metadata": {
        "id": "sYz__05hMG5v"
      },
      "source": [
        "import numpy as np"
      ],
      "execution_count": 3,
      "outputs": []
    },
    {
      "cell_type": "code",
      "metadata": {
        "colab": {
          "base_uri": "https://localhost:8080/"
        },
        "id": "2Zf9QA2eMG5v",
        "outputId": "e8ffd926-5058-47e6-e547-9c77e666cc3b"
      },
      "source": [
        "np.array([1,2,3])"
      ],
      "execution_count": 3,
      "outputs": [
        {
          "output_type": "execute_result",
          "data": {
            "text/plain": [
              "array([1, 2, 3])"
            ]
          },
          "metadata": {
            "tags": []
          },
          "execution_count": 3
        }
      ]
    },
    {
      "cell_type": "code",
      "metadata": {
        "colab": {
          "base_uri": "https://localhost:8080/"
        },
        "id": "NzABOltTMG5w",
        "outputId": "821c2d20-9b1b-413f-8231-929f974d7cf3"
      },
      "source": [
        "a = np.array([1, 2, 3, 4, 5, 6])\n",
        "print(a)\n",
        "print('---------------')\n",
        "b = np.array([[1, 2, 3], [4, 5, 6]])\n",
        "print(b)\n",
        "print('---------------')\n",
        "c = np.array([[[1, 2, 3], [4, 5, 6]], [[7, 8, 9], [10, 11, 12]]])\n",
        "print(c)"
      ],
      "execution_count": 5,
      "outputs": [
        {
          "output_type": "stream",
          "text": [
            "[1 2 3 4 5 6]\n",
            "---------------\n",
            "[[1 2 3]\n",
            " [4 5 6]]\n",
            "---------------\n",
            "[[[ 1  2  3]\n",
            "  [ 4  5  6]]\n",
            "\n",
            " [[ 7  8  9]\n",
            "  [10 11 12]]]\n"
          ],
          "name": "stdout"
        }
      ]
    },
    {
      "cell_type": "code",
      "metadata": {
        "id": "LX31karOMG5x",
        "outputId": "8a9b71d7-9620-4f69-eb84-c1829d944e68"
      },
      "source": [
        "print(\"-\" * 10)"
      ],
      "execution_count": null,
      "outputs": [
        {
          "output_type": "stream",
          "text": [
            "----------\n"
          ],
          "name": "stdout"
        }
      ]
    },
    {
      "cell_type": "code",
      "metadata": {
        "scrolled": true,
        "id": "UNKDCSrqMG5x",
        "outputId": "7614f1ce-437b-45eb-f6ad-144de374be67"
      },
      "source": [
        "print(a)\n",
        " \n",
        "print(\"-\" * 10)\n",
        "print(b)\n",
        " \n",
        "print(\"-\" * 10)\n",
        "print(c)"
      ],
      "execution_count": null,
      "outputs": [
        {
          "output_type": "stream",
          "text": [
            "[1 2 3 4 5 6]\n",
            "----------\n",
            "[[1 2 3]\n",
            " [4 5 6]]\n",
            "----------\n",
            "[[[ 1  2  3]\n",
            "  [ 4  5  6]]\n",
            "\n",
            " [[ 7  8  9]\n",
            "  [10 11 12]]]\n"
          ],
          "name": "stdout"
        }
      ]
    },
    {
      "cell_type": "code",
      "metadata": {
        "id": "KHWlC1LxMG5y",
        "outputId": "5640ee91-7dcf-4a9e-f030-28836dcb49b3"
      },
      "source": [
        "a1 = [1, 2, 3, 4, 5, 6]\n",
        "print(type(a1))\n",
        "\n",
        "b1=np.array(a1)\n",
        "print(type(b1))"
      ],
      "execution_count": null,
      "outputs": [
        {
          "output_type": "stream",
          "text": [
            "<class 'list'>\n",
            "<class 'numpy.ndarray'>\n"
          ],
          "name": "stdout"
        }
      ]
    },
    {
      "cell_type": "markdown",
      "metadata": {
        "id": "kITcdsynMG5z"
      },
      "source": [
        "### Attributes\n",
        "The main data structure for multidimensional arrays in NumPy is the ndarray class. Basic Attributes of the ndarray Class is \n",
        "as follow:\n",
        "\n",
        "Attributes\n",
        "    1. Shape  - A tuple that specifies the number of elements for each dimension of the array.\n",
        "    2. Size   - The total number elements in the array.\n",
        "    3. Ndim   - Determines the dimension an array.\n",
        "    4. nbytes - Number of bytes used to store the data.\n",
        "    5. dtype  - Determines the datatype of elements stored in array."
      ]
    },
    {
      "cell_type": "markdown",
      "metadata": {
        "id": "lNDxWRp4MG5z"
      },
      "source": [
        "### Shape of an array\n",
        "The shape method determines the shape of NumPy array in form of (m, n) i.e (no. of rows) x (no. of columns)."
      ]
    },
    {
      "cell_type": "code",
      "metadata": {
        "id": "2hSDtIJeMG50",
        "outputId": "e8203265-ba03-4cd7-d17a-ea029ca6d247"
      },
      "source": [
        "print(a.shape)\n",
        "print(b.shape)\n",
        "print(c.shape)\n",
        "\n",
        "print(c.size)"
      ],
      "execution_count": null,
      "outputs": [
        {
          "output_type": "stream",
          "text": [
            "(6,)\n",
            "(2, 3)\n",
            "(2, 2, 3)\n",
            "12\n"
          ],
          "name": "stdout"
        }
      ]
    },
    {
      "cell_type": "code",
      "metadata": {
        "id": "9uDoMln0MG50",
        "outputId": "6dce5e20-2f92-424d-f50c-3319afb291fe"
      },
      "source": [
        "d=np.array([[1],[2],[3],[4],[5],[6]])\n",
        "d.shape"
      ],
      "execution_count": null,
      "outputs": [
        {
          "output_type": "execute_result",
          "data": {
            "text/plain": [
              "(6, 1)"
            ]
          },
          "metadata": {
            "tags": []
          },
          "execution_count": 16
        }
      ]
    },
    {
      "cell_type": "markdown",
      "metadata": {
        "id": "XA-S1kZZMG51"
      },
      "source": [
        "### Dimension of an array\n",
        "The ndim method determines the dimension of NumPy array."
      ]
    },
    {
      "cell_type": "code",
      "metadata": {
        "id": "gEgzVGabMG51",
        "outputId": "f5ef4fb1-f7a3-4fc7-88c9-ae96dcdf23eb"
      },
      "source": [
        "print(a.ndim) \n",
        "print(b.ndim) \n",
        "print(c.ndim) "
      ],
      "execution_count": null,
      "outputs": [
        {
          "output_type": "stream",
          "text": [
            "1\n",
            "2\n",
            "3\n"
          ],
          "name": "stdout"
        }
      ]
    },
    {
      "cell_type": "markdown",
      "metadata": {
        "id": "buQedM2sMG51"
      },
      "source": [
        "## Data Types in NumPy\n",
        "\n",
        "The **dtype method** determines the datatype of elements stored in NumPy array. \n",
        "We can also explicitly define the data type using the dtype option as an argument of array function.\n",
        "\n"
      ]
    },
    {
      "cell_type": "code",
      "metadata": {
        "id": "CuIbrDDGMG52"
      },
      "source": [
        "import numpy as np\n",
        "a1 = np.array([1, 2, 3, 4, 5, 6])\n",
        "b1 = np.array([1.5, 2.5, 0.5, 6])\n",
        "c1 = np.array(['a', 'bat', 'c'])\n",
        "d1 = np.array([555, 666], dtype=float)"
      ],
      "execution_count": 7,
      "outputs": []
    },
    {
      "cell_type": "code",
      "metadata": {
        "colab": {
          "base_uri": "https://localhost:8080/"
        },
        "id": "0FeJuX_OMG52",
        "outputId": "72692699-a07f-4de9-8b9e-6d3b5f952c9c"
      },
      "source": [
        "print(a1.dtype)\n",
        "print(b1.dtype)\n",
        "print(c1.dtype)\n",
        "print(d1.dtype) \n",
        "\n",
        "print(c1)"
      ],
      "execution_count": 8,
      "outputs": [
        {
          "output_type": "stream",
          "text": [
            "int64\n",
            "float64\n",
            "<U3\n",
            "float64\n",
            "['a' 'bat' 'c']\n"
          ],
          "name": "stdout"
        }
      ]
    },
    {
      "cell_type": "code",
      "metadata": {
        "colab": {
          "base_uri": "https://localhost:8080/"
        },
        "id": "WvMDoZar7R9g",
        "outputId": "672485a0-8dc5-4cf3-b41d-31c51a031009"
      },
      "source": [
        "arr = np.array(['apple', 'banana', 'cherry'])\n",
        "print(arr.dtype)"
      ],
      "execution_count": 10,
      "outputs": [
        {
          "output_type": "stream",
          "text": [
            "<U6\n"
          ],
          "name": "stdout"
        }
      ]
    },
    {
      "cell_type": "markdown",
      "metadata": {
        "id": "CgGJw2iUMG52"
      },
      "source": [
        "### Reshape an array\n",
        "The reshape () method modifies existing shape but original array remains unchanged."
      ]
    },
    {
      "cell_type": "code",
      "metadata": {
        "id": "m0AgfIJmMG53",
        "outputId": "cd438de0-df00-413a-c2f7-dd760ed88d36"
      },
      "source": [
        "a = np.array([1, 2, 3, 4, 5, 6, 7, 8])\n",
        "\n",
        "a1 = a.reshape(2, 4)\n",
        "print(a1)\n",
        " \n",
        "print(\"-\" * 10)\n",
        "a2 = a.reshape(4, 2)\n",
        "print(a2)\n",
        " \n",
        "print(\"-\" * 10)\n",
        "a3 = a.reshape(8, 1)\n",
        "print(a3)"
      ],
      "execution_count": null,
      "outputs": [
        {
          "output_type": "stream",
          "text": [
            "[[1 2 3 4]\n",
            " [5 6 7 8]]\n",
            "----------\n",
            "[[1 2]\n",
            " [3 4]\n",
            " [5 6]\n",
            " [7 8]]\n",
            "----------\n",
            "[[1]\n",
            " [2]\n",
            " [3]\n",
            " [4]\n",
            " [5]\n",
            " [6]\n",
            " [7]\n",
            " [8]]\n"
          ],
          "name": "stdout"
        }
      ]
    },
    {
      "cell_type": "markdown",
      "metadata": {
        "id": "CT8ULrreMG54"
      },
      "source": [
        "## Special NumPy functions for generating arrays"
      ]
    },
    {
      "cell_type": "markdown",
      "metadata": {
        "id": "y92VnzbDMG54"
      },
      "source": [
        "### Arrays with arange()\n",
        "The arange() function creates an array with evenly spaced values between the specified start, end, and increment values.\n",
        "\n",
        "np.arange(Start, End, Increment)"
      ]
    },
    {
      "cell_type": "code",
      "metadata": {
        "id": "uL2Og_Y_MG55",
        "outputId": "57c83499-3626-4566-a2cf-24b538a93d15"
      },
      "source": [
        "a = np.arange(5) \n",
        "print(a)"
      ],
      "execution_count": null,
      "outputs": [
        {
          "output_type": "stream",
          "text": [
            "[0 1 2 3 4]\n"
          ],
          "name": "stdout"
        }
      ]
    },
    {
      "cell_type": "code",
      "metadata": {
        "id": "DrXAOcO9MG55",
        "outputId": "710aedca-b54b-4bc3-e456-934c2f5adcdb"
      },
      "source": [
        "b = np.arange(0, 12, 2)\n",
        "print(b)"
      ],
      "execution_count": null,
      "outputs": [
        {
          "output_type": "stream",
          "text": [
            "[ 0  2  4  6  8 10]\n"
          ],
          "name": "stdout"
        }
      ]
    },
    {
      "cell_type": "code",
      "metadata": {
        "id": "BhRo7hBRMG56",
        "outputId": "795097df-4aec-4fd4-870a-e122574e6879"
      },
      "source": [
        "b1 = np.arange(1, 12, 2)\n",
        "b1"
      ],
      "execution_count": null,
      "outputs": [
        {
          "output_type": "execute_result",
          "data": {
            "text/plain": [
              "array([ 1,  3,  5,  7,  9, 11])"
            ]
          },
          "metadata": {
            "tags": []
          },
          "execution_count": 25
        }
      ]
    },
    {
      "cell_type": "code",
      "metadata": {
        "id": "NJ0geOVQMG56",
        "outputId": "0f6b6f2c-b0c9-46c7-da35-cb9c5875a6e9"
      },
      "source": [
        "c = np.arange(0, 12, 2).reshape(2, 3)\n",
        "print(c)"
      ],
      "execution_count": null,
      "outputs": [
        {
          "output_type": "stream",
          "text": [
            "[[ 0  2  4]\n",
            " [ 6  8 10]]\n"
          ],
          "name": "stdout"
        }
      ]
    },
    {
      "cell_type": "code",
      "metadata": {
        "id": "gunSeKp-MG56",
        "outputId": "30296966-a663-4195-f330-671725f0f883"
      },
      "source": [
        "d = np.arange(9).reshape(3, 3)\n",
        "print(d)"
      ],
      "execution_count": null,
      "outputs": [
        {
          "output_type": "stream",
          "text": [
            "[[0 1 2]\n",
            " [3 4 5]\n",
            " [6 7 8]]\n"
          ],
          "name": "stdout"
        }
      ]
    },
    {
      "cell_type": "markdown",
      "metadata": {
        "id": "QIOM4TvyMG57"
      },
      "source": [
        "### Arrays with linspace()\n",
        "The linspace() function generates an array with evenly spaced values between specified start and end values, \n",
        "using a specified number of elements.\n",
        "\n",
        "np.linspace(Start, End, Number of elements)"
      ]
    },
    {
      "cell_type": "code",
      "metadata": {
        "id": "bGJ3yHXjMG57",
        "outputId": "a24c38a0-f510-4004-c9f3-3c8b70c48f3b"
      },
      "source": [
        "a = np.linspace(1, 12, 4)\n",
        "print(a)\n",
        "\n",
        "print(\"\")\n",
        "\n",
        "b = np.linspace(1, 12, 12).reshape(4, 3)\n",
        "print(b)"
      ],
      "execution_count": null,
      "outputs": [
        {
          "output_type": "stream",
          "text": [
            "[ 1.          4.66666667  8.33333333 12.        ]\n",
            "\n",
            "[[ 1.  2.  3.]\n",
            " [ 4.  5.  6.]\n",
            " [ 7.  8.  9.]\n",
            " [10. 11. 12.]]\n"
          ],
          "name": "stdout"
        }
      ]
    },
    {
      "cell_type": "markdown",
      "metadata": {
        "id": "82zpsHr6MG57"
      },
      "source": [
        "### Zero Array\n",
        "The zeros() function, generates an array with the specified dimensions and data type that is filled with zeros."
      ]
    },
    {
      "cell_type": "code",
      "metadata": {
        "id": "e0ZzvrDAMG58",
        "outputId": "355e39df-6d96-437e-99b4-2083c6764e0d"
      },
      "source": [
        "a = np.zeros(3)\n",
        "print(a)\n",
        "print(\"\") \n",
        "b = np.zeros((2, 4))\n",
        "print(b)"
      ],
      "execution_count": null,
      "outputs": [
        {
          "output_type": "stream",
          "text": [
            "[0. 0. 0.]\n",
            "\n",
            "[[0. 0. 0. 0.]\n",
            " [0. 0. 0. 0.]]\n"
          ],
          "name": "stdout"
        }
      ]
    },
    {
      "cell_type": "markdown",
      "metadata": {
        "id": "zKWymqBfMG58"
      },
      "source": [
        "### One Array\n",
        "The ones() function, generates an array with the specified dimensions and data type that is filled with ones."
      ]
    },
    {
      "cell_type": "code",
      "metadata": {
        "id": "bQ_uMohHMG58",
        "outputId": "363bd01a-6ace-4894-d177-1ea6747b6b10"
      },
      "source": [
        "a = np.ones(3)\n",
        "print(a)\n",
        "print(\"\")\n",
        "b = np.ones((2, 4))\n",
        "print(b)"
      ],
      "execution_count": null,
      "outputs": [
        {
          "output_type": "stream",
          "text": [
            "[1. 1. 1.]\n",
            "\n",
            "[[1. 1. 1. 1.]\n",
            " [1. 1. 1. 1.]]\n"
          ],
          "name": "stdout"
        }
      ]
    },
    {
      "cell_type": "markdown",
      "metadata": {
        "id": "rMeNRp30MG59"
      },
      "source": [
        "### Eye Array\n",
        "The eye() function, returns an array where all elements are equal to zero, except for the k-th diagonal, \n",
        "whose values are equal to one."
      ]
    },
    {
      "cell_type": "code",
      "metadata": {
        "id": "TmtjH3Z_MG59",
        "outputId": "d738ab13-0e0e-4476-ae80-3160fa652488"
      },
      "source": [
        "a = np.eye(3, dtype=int)\n",
        "print(a)"
      ],
      "execution_count": null,
      "outputs": [
        {
          "output_type": "stream",
          "text": [
            "[[1 0 0]\n",
            " [0 1 0]\n",
            " [0 0 1]]\n"
          ],
          "name": "stdout"
        }
      ]
    },
    {
      "cell_type": "markdown",
      "metadata": {
        "id": "-umLFRHsMG59"
      },
      "source": [
        "### Random Number Array\n",
        "\n",
        "The np.random.rand method, generates an array with random numbers that are uniformly distributed.\n",
        "\n",
        "The np.random.randn method, generates an array with random numbers that are normally distributed.\n",
        "\n",
        "The np.random.randint method, generates an array with random numbers that are uniformly distributed between 0 and given integer."
      ]
    },
    {
      "cell_type": "code",
      "metadata": {
        "colab": {
          "base_uri": "https://localhost:8080/"
        },
        "id": "lY4ro9pTMG59",
        "outputId": "f6f7ac44-6e38-4f30-a0a6-efc8c6c0f134"
      },
      "source": [
        "print(np.random.rand(3))  \n",
        "print(np.random.rand(3,2))"
      ],
      "execution_count": 11,
      "outputs": [
        {
          "output_type": "stream",
          "text": [
            "[0.62561396 0.31895387 0.35112444]\n",
            "[[0.61748906 0.94563274]\n",
            " [0.98532798 0.01266518]\n",
            " [0.70254782 0.27629297]]\n"
          ],
          "name": "stdout"
        }
      ]
    },
    {
      "cell_type": "code",
      "metadata": {
        "id": "xgT7OUgcMG5-",
        "outputId": "a910c6da-5318-4e74-d784-b8885362c145"
      },
      "source": [
        "print(np.random.randn(3,2))"
      ],
      "execution_count": null,
      "outputs": [
        {
          "output_type": "stream",
          "text": [
            "[[ 0.90612234  0.6472573 ]\n",
            " [ 1.15378512 -0.41789926]\n",
            " [ 1.95925096  0.51339728]]\n"
          ],
          "name": "stdout"
        }
      ]
    },
    {
      "cell_type": "code",
      "metadata": {
        "id": "egTieKQNMG5_",
        "outputId": "0df84cf4-8adb-46af-aae1-42fef7b44e69"
      },
      "source": [
        "#print(np.random.randint(2, size=10))\n",
        "print(np.random.randint(5, size=(2, 4)))"
      ],
      "execution_count": null,
      "outputs": [
        {
          "output_type": "stream",
          "text": [
            "[[3 4 4 0]\n",
            " [3 2 0 2]]\n"
          ],
          "name": "stdout"
        }
      ]
    },
    {
      "cell_type": "code",
      "metadata": {
        "id": "wO0lVkr4MG5_",
        "outputId": "896cceb6-951d-4a2c-e610-5336513f879b"
      },
      "source": [
        "a=np.array([1,2,3])\n",
        "a.max()"
      ],
      "execution_count": null,
      "outputs": [
        {
          "output_type": "execute_result",
          "data": {
            "text/plain": [
              "3"
            ]
          },
          "metadata": {
            "tags": []
          },
          "execution_count": 43
        }
      ]
    }
  ]
}